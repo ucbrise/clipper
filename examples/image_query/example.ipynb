{
 "cells": [
  {
   "cell_type": "markdown",
   "metadata": {},
   "source": [
    "# Querying Clipper with an Image\n",
    "\n",
    "This notebook shows how to setup Clipper to accept querying with image. We will deploy a function that compute the size of the image using [PIL](https://pillow.readthedocs.io/en/5.1.x/) image library and query it with image data. "
   ]
  },
  {
   "cell_type": "code",
   "execution_count": 1,
   "metadata": {},
   "outputs": [],
   "source": [
    "import base64\n",
    "import json\n",
    "import requests"
   ]
  },
  {
   "cell_type": "markdown",
   "metadata": {},
   "source": [
    "## Using input_type = \"bytes\""
   ]
  },
  {
   "cell_type": "markdown",
   "metadata": {},
   "source": [
    "An image can be read a string of raw bytes. Clipper can take any base64 encoded bytes as input and decode it to send to your model. \n",
    "\n",
    "![encoding_diagram](imgs/encoding_explained.png)\n",
    "\n",
    "Below, we define the query function and the model that calculate image size."
   ]
  },
  {
   "cell_type": "markdown",
   "metadata": {},
   "source": [
    "### Query Function\n",
    "Our input JSON will contains a *base64 encoded string*. This can be done in the following three step procedure:"
   ]
  },
  {
   "cell_type": "markdown",
   "metadata": {},
   "source": [
    "- Read in the raw bytes."
   ]
  },
  {
   "cell_type": "code",
   "execution_count": 2,
   "metadata": {},
   "outputs": [
    {
     "data": {
      "text/plain": [
       "b'\\x89PNG\\r\\n\\x1a\\n\\x00\\x00'"
      ]
     },
     "execution_count": 2,
     "metadata": {},
     "output_type": "execute_result"
    }
   ],
   "source": [
    "raw_bytes = open('imgs/clipper-logo.png', \"rb\").read()\n",
    "raw_bytes[:10]"
   ]
  },
  {
   "cell_type": "markdown",
   "metadata": {},
   "source": [
    "- Encode the raw bytes to base64 encoding, and note that the result is still bytes"
   ]
  },
  {
   "cell_type": "code",
   "execution_count": 3,
   "metadata": {},
   "outputs": [
    {
     "name": "stdout",
     "output_type": "stream",
     "text": [
      "<class 'bytes'>\n"
     ]
    },
    {
     "data": {
      "text/plain": [
       "b'iVBORw0KGg'"
      ]
     },
     "execution_count": 3,
     "metadata": {},
     "output_type": "execute_result"
    }
   ],
   "source": [
    "encoded_bytes = base64.b64encode(raw_bytes)\n",
    "print(type(encoded_bytes))\n",
    "encoded_bytes[:10]"
   ]
  },
  {
   "cell_type": "markdown",
   "metadata": {},
   "source": [
    "- Turn the bytes into string so json can serialize it"
   ]
  },
  {
   "cell_type": "code",
   "execution_count": 4,
   "metadata": {},
   "outputs": [
    {
     "name": "stdout",
     "output_type": "stream",
     "text": [
      "<class 'str'>\n"
     ]
    },
    {
     "data": {
      "text/plain": [
       "'iVBORw0KGg'"
      ]
     },
     "execution_count": 4,
     "metadata": {},
     "output_type": "execute_result"
    }
   ],
   "source": [
    "encoded_string = encoded_bytes.decode()\n",
    "print(type(encoded_string))\n",
    "encoded_string[:10]"
   ]
  },
  {
   "cell_type": "markdown",
   "metadata": {},
   "source": [
    "Finally our query function will look like this:"
   ]
  },
  {
   "cell_type": "code",
   "execution_count": 5,
   "metadata": {},
   "outputs": [],
   "source": [
    "def query(addr, filename):\n",
    "    url = \"http://%s/image-example/predict\" % addr\n",
    "    req_json = json.dumps({\n",
    "        \"input\":\n",
    "        base64.b64encode(open(filename, \"rb\").read()).decode() # bytes to unicode\n",
    "    })\n",
    "    headers = {'Content-type': 'application/json'}\n",
    "    r = requests.post(url, headers=headers, data=req_json)\n",
    "    print(r.json())"
   ]
  },
  {
   "cell_type": "markdown",
   "metadata": {},
   "source": [
    "### Model Function"
   ]
  },
  {
   "cell_type": "markdown",
   "metadata": {},
   "source": [
    "The model will takes in an array of byte arrays. The bytes are already decoded for you. "
   ]
  },
  {
   "cell_type": "code",
   "execution_count": 6,
   "metadata": {},
   "outputs": [],
   "source": [
    "def image_size(imgs):\n",
    "    \"\"\"\n",
    "    Input: \n",
    "    - imgs : (np.ndarray) of shape (n, d). n is the number of data in this batch\n",
    "             d is the length of the bytes as numpy int8 array.  \n",
    "    Output:\n",
    "    - sizes : List[Tuple(int, int),...]\n",
    "    \"\"\"\n",
    "    import base64\n",
    "    import io\n",
    "    import os\n",
    "    import PIL.Image\n",
    "    import tempfile\n",
    "  \n",
    "    num_imgs = len(imgs)\n",
    "    sizes = []\n",
    "    for i in range(num_imgs):\n",
    "        # Create a temp file to write to\n",
    "        tmp = tempfile.NamedTemporaryFile('wb', delete=False, suffix='.png')\n",
    "        tmp.write(io.BytesIO(imgs[i]).getvalue())\n",
    "        tmp.close()\n",
    "        \n",
    "        # Use PIL to read in the file and compute size\n",
    "        size = PIL.Image.open(tmp.name, 'r').size\n",
    "        \n",
    "        # Remove the temp file\n",
    "        os.unlink(tmp.name) \n",
    "\n",
    "        sizes.append(size)\n",
    "    return sizes"
   ]
  },
  {
   "cell_type": "markdown",
   "metadata": {},
   "source": [
    "### Start Clipper and Deploy Function"
   ]
  },
  {
   "cell_type": "markdown",
   "metadata": {},
   "source": [
    "We can now start Clipper with Docker and deploy our function.\n",
    "\n",
    "Be sure to add `pillow` as external package by passing it in to `pkgs_to_install` parameter in deployer function!"
   ]
  },
  {
   "cell_type": "code",
   "execution_count": 7,
   "metadata": {},
   "outputs": [
    {
     "name": "stderr",
     "output_type": "stream",
     "text": [
      "18-05-31:12:14:27 INFO     [docker_container_manager.py:119] Starting managed Redis instance in Docker\n",
      "18-05-31:12:14:30 INFO     [clipper_admin.py:126] Clipper is running\n",
      "18-05-31:12:14:30 INFO     [clipper_admin.py:201] Application image-example was successfully registered\n",
      "18-05-31:12:14:30 INFO     [deployer_utils.py:44] Saving function to /tmp/clipper/tmptr6neihw\n",
      "18-05-31:12:14:30 INFO     [deployer_utils.py:54] Serialized and supplied predict function\n",
      "18-05-31:12:14:30 INFO     [python.py:192] Python closure saved\n",
      "18-05-31:12:14:30 INFO     [python.py:206] Using Python 3.6 base image\n",
      "18-05-31:12:14:30 INFO     [clipper_admin.py:452] Building model Docker image with model data from /tmp/clipper/tmptr6neihw\n",
      "18-05-31:12:14:36 INFO     [clipper_admin.py:456] {'stream': 'Step 1/3 : FROM clipper/python36-closure-container:develop'}\n",
      "18-05-31:12:14:36 INFO     [clipper_admin.py:456] {'stream': '\\n'}\n",
      "18-05-31:12:14:36 INFO     [clipper_admin.py:456] {'stream': ' ---> 6ff428449fcf\\n'}\n",
      "18-05-31:12:14:36 INFO     [clipper_admin.py:456] {'stream': 'Step 2/3 : COPY /tmp/clipper/tmptr6neihw /model/'}\n",
      "18-05-31:12:14:36 INFO     [clipper_admin.py:456] {'stream': '\\n'}\n",
      "18-05-31:12:14:36 INFO     [clipper_admin.py:456] {'stream': ' ---> 6e175a3c8a41\\n'}\n",
      "18-05-31:12:14:36 INFO     [clipper_admin.py:456] {'stream': 'Step 3/3 : RUN apt-get -y install build-essential && pip install pillow'}\n",
      "18-05-31:12:14:36 INFO     [clipper_admin.py:456] {'stream': '\\n'}\n",
      "18-05-31:12:14:36 INFO     [clipper_admin.py:456] {'stream': ' ---> Running in e68b32c2079f\\n'}\n",
      "18-05-31:12:14:36 INFO     [clipper_admin.py:456] {'stream': 'Reading package lists...'}\n",
      "18-05-31:12:14:36 INFO     [clipper_admin.py:456] {'stream': '\\n'}\n",
      "18-05-31:12:14:36 INFO     [clipper_admin.py:456] {'stream': 'Building dependency tree...'}\n",
      "18-05-31:12:14:36 INFO     [clipper_admin.py:456] {'stream': '\\nReading state information...'}\n",
      "18-05-31:12:14:36 INFO     [clipper_admin.py:456] {'stream': '\\n'}\n",
      "18-05-31:12:14:36 INFO     [clipper_admin.py:456] {'stream': 'build-essential is already the newest version (12.3).\\n0 upgraded, 0 newly installed, 0 to remove and 4 not upgraded.\\n'}\n",
      "18-05-31:12:14:36 INFO     [clipper_admin.py:456] {'stream': 'Collecting pillow\\n'}\n",
      "18-05-31:12:14:36 INFO     [clipper_admin.py:456] {'stream': '  Downloading https://files.pythonhosted.org/packages/5f/4b/8b54ab9d37b93998c81b364557dff9f61972c0f650efa0ceaf470b392740/Pillow-5.1.0-cp36-cp36m-manylinux1_x86_64.whl (2.0MB)\\n'}\n",
      "18-05-31:12:14:36 INFO     [clipper_admin.py:456] {'stream': 'Installing collected packages: pillow\\n'}\n",
      "18-05-31:12:14:36 INFO     [clipper_admin.py:456] {'stream': 'Successfully installed pillow-5.1.0\\n'}\n",
      "18-05-31:12:14:36 INFO     [clipper_admin.py:456] {'stream': \"\\x1b[91mYou are using pip version 9.0.3, however version 10.0.1 is available.\\nYou should consider upgrading via the 'pip install --upgrade pip' command.\\n\\x1b[0m\"}\n",
      "18-05-31:12:14:36 INFO     [clipper_admin.py:456] {'stream': ' ---> 903dbd0dc289\\n'}\n",
      "18-05-31:12:14:36 INFO     [clipper_admin.py:456] {'aux': {'ID': 'sha256:903dbd0dc289c92d39075878cf637598667cd783dca98f68c8adedd3e81a974b'}}\n",
      "18-05-31:12:14:36 INFO     [clipper_admin.py:456] {'stream': 'Successfully built 903dbd0dc289\\n'}\n",
      "18-05-31:12:14:36 INFO     [clipper_admin.py:456] {'stream': 'Successfully tagged image-example:1\\n'}\n",
      "18-05-31:12:14:36 INFO     [clipper_admin.py:458] Pushing model Docker image to image-example:1\n",
      "18-05-31:12:14:38 INFO     [docker_container_manager.py:257] Found 0 replicas for image-example:1. Adding 1\n",
      "18-05-31:12:14:44 INFO     [clipper_admin.py:635] Successfully registered model image-example:1\n",
      "18-05-31:12:14:44 INFO     [clipper_admin.py:553] Done deploying model image-example:1.\n",
      "18-05-31:12:14:44 INFO     [clipper_admin.py:263] Model image-example is now linked to application image-example\n"
     ]
    }
   ],
   "source": [
    "from clipper_admin import ClipperConnection, DockerContainerManager\n",
    "from clipper_admin.deployers import python as python_deployer\n",
    "\n",
    "clipper_conn = ClipperConnection(DockerContainerManager())\n",
    "clipper_conn.start_clipper()\n",
    "\n",
    "\n",
    "python_deployer.create_endpoint(\n",
    "    clipper_conn=clipper_conn, \n",
    "    name=\"image-example\", \n",
    "    input_type=\"bytes\", \n",
    "    func=image_size, \n",
    "    pkgs_to_install=['pillow']\n",
    ")"
   ]
  },
  {
   "cell_type": "markdown",
   "metadata": {},
   "source": [
    "### Try it out!"
   ]
  },
  {
   "cell_type": "code",
   "execution_count": 9,
   "metadata": {},
   "outputs": [
    {
     "name": "stdout",
     "output_type": "stream",
     "text": [
      "{'query_id': 0, 'output': '(749, 600)', 'use_default': False}\n"
     ]
    }
   ],
   "source": [
    "query(clipper_conn.get_query_addr(), 'imgs/clipper-logo.png')"
   ]
  },
  {
   "cell_type": "markdown",
   "metadata": {},
   "source": [
    "## Using input_type = \"strings\""
   ]
  },
  {
   "cell_type": "markdown",
   "metadata": {},
   "source": [
    "Sometime you need to pass in metadata about the image like the file format. In the example below, we will serialize our image data as base64 encoded string and make it part of our input query. We will input a json serialized string as input and decoded in the model function.\n",
    "\n",
    "![diagram](imgs/string_json_explained.png)"
   ]
  },
  {
   "cell_type": "code",
   "execution_count": 10,
   "metadata": {},
   "outputs": [],
   "source": [
    "def query_json(addr, filename, image_format):\n",
    "    url = \"http://%s/image-example-string/predict\" % addr\n",
    "    req_json = json.dumps({\n",
    "        \"input\":\n",
    "        json.dumps({\n",
    "            'data': base64.b64encode(open(filename, \"rb\").read()).decode(),\n",
    "            'format': image_format\n",
    "        })\n",
    "    })\n",
    "    headers = {'Content-type': 'application/json'}\n",
    "    r = requests.post(url, headers=headers, data=req_json)\n",
    "    print(r.json())"
   ]
  },
  {
   "cell_type": "code",
   "execution_count": 11,
   "metadata": {},
   "outputs": [],
   "source": [
    "def image_size_json(imgs):\n",
    "    \"\"\"\n",
    "    Input: \n",
    "    - imgs : an array of strings \n",
    "    Output:\n",
    "    - sizes : List[Tuple(int, int),...]\n",
    "    \"\"\"\n",
    "    import base64\n",
    "    import io\n",
    "    import os\n",
    "    import PIL.Image\n",
    "    import tempfile\n",
    "    import json\n",
    "  \n",
    "    num_imgs = len(imgs)\n",
    "    sizes = []\n",
    "    for i in range(num_imgs):\n",
    "        # Deserialize the query\n",
    "        data = json.loads(imgs[i])\n",
    "        image_format = data['format']\n",
    "        image_bytes = data['data'].encode()\n",
    "        \n",
    "        # Create a temp file to write to\n",
    "        tmp = tempfile.NamedTemporaryFile('wb', delete=False, suffix='.{}'.format(image_format))\n",
    "        tmp.write(io.BytesIO(base64.b64decode(image_bytes)).getvalue())\n",
    "        tmp.close()\n",
    "        \n",
    "        # Use PIL to read in the file and compute size\n",
    "        size = PIL.Image.open(tmp.name, 'r').size\n",
    "        \n",
    "        # Remove the temp file\n",
    "        os.unlink(tmp.name) \n",
    "\n",
    "        sizes.append(size)\n",
    "    return sizes"
   ]
  },
  {
   "cell_type": "code",
   "execution_count": 12,
   "metadata": {},
   "outputs": [
    {
     "name": "stderr",
     "output_type": "stream",
     "text": [
      "18-05-31:12:14:51 INFO     [clipper_admin.py:201] Application image-example-string was successfully registered\n",
      "18-05-31:12:14:51 INFO     [deployer_utils.py:44] Saving function to /tmp/clipper/tmp3495d4l1\n",
      "18-05-31:12:14:51 INFO     [deployer_utils.py:54] Serialized and supplied predict function\n",
      "18-05-31:12:14:51 INFO     [python.py:192] Python closure saved\n",
      "18-05-31:12:14:51 INFO     [python.py:206] Using Python 3.6 base image\n",
      "18-05-31:12:14:51 INFO     [clipper_admin.py:452] Building model Docker image with model data from /tmp/clipper/tmp3495d4l1\n",
      "18-05-31:12:14:56 INFO     [clipper_admin.py:456] {'stream': 'Step 1/3 : FROM clipper/python36-closure-container:develop'}\n",
      "18-05-31:12:14:56 INFO     [clipper_admin.py:456] {'stream': '\\n'}\n",
      "18-05-31:12:14:56 INFO     [clipper_admin.py:456] {'stream': ' ---> 6ff428449fcf\\n'}\n",
      "18-05-31:12:14:56 INFO     [clipper_admin.py:456] {'stream': 'Step 2/3 : COPY /tmp/clipper/tmp3495d4l1 /model/'}\n",
      "18-05-31:12:14:56 INFO     [clipper_admin.py:456] {'stream': '\\n'}\n",
      "18-05-31:12:14:56 INFO     [clipper_admin.py:456] {'stream': ' ---> ee846fddf410\\n'}\n",
      "18-05-31:12:14:56 INFO     [clipper_admin.py:456] {'stream': 'Step 3/3 : RUN apt-get -y install build-essential && pip install pillow'}\n",
      "18-05-31:12:14:56 INFO     [clipper_admin.py:456] {'stream': '\\n'}\n",
      "18-05-31:12:14:56 INFO     [clipper_admin.py:456] {'stream': ' ---> Running in 10f08bca9104\\n'}\n",
      "18-05-31:12:14:56 INFO     [clipper_admin.py:456] {'stream': 'Reading package lists...'}\n",
      "18-05-31:12:14:56 INFO     [clipper_admin.py:456] {'stream': '\\n'}\n",
      "18-05-31:12:14:56 INFO     [clipper_admin.py:456] {'stream': 'Building dependency tree...'}\n",
      "18-05-31:12:14:56 INFO     [clipper_admin.py:456] {'stream': '\\n'}\n",
      "18-05-31:12:14:56 INFO     [clipper_admin.py:456] {'stream': 'Reading state information...'}\n",
      "18-05-31:12:14:56 INFO     [clipper_admin.py:456] {'stream': '\\n'}\n",
      "18-05-31:12:14:56 INFO     [clipper_admin.py:456] {'stream': 'build-essential is already the newest version (12.3).\\n0 upgraded, 0 newly installed, 0 to remove and 4 not upgraded.\\n'}\n",
      "18-05-31:12:14:56 INFO     [clipper_admin.py:456] {'stream': 'Collecting pillow\\n'}\n",
      "18-05-31:12:14:56 INFO     [clipper_admin.py:456] {'stream': '  Downloading https://files.pythonhosted.org/packages/5f/4b/8b54ab9d37b93998c81b364557dff9f61972c0f650efa0ceaf470b392740/Pillow-5.1.0-cp36-cp36m-manylinux1_x86_64.whl (2.0MB)\\n'}\n",
      "18-05-31:12:14:56 INFO     [clipper_admin.py:456] {'stream': 'Installing collected packages: pillow\\n'}\n",
      "18-05-31:12:14:56 INFO     [clipper_admin.py:456] {'stream': 'Successfully installed pillow-5.1.0\\n'}\n",
      "18-05-31:12:14:56 INFO     [clipper_admin.py:456] {'stream': \"\\x1b[91mYou are using pip version 9.0.3, however version 10.0.1 is available.\\nYou should consider upgrading via the 'pip install --upgrade pip' command.\\n\\x1b[0m\"}\n",
      "18-05-31:12:14:56 INFO     [clipper_admin.py:456] {'stream': ' ---> 7ac91ad502ff\\n'}\n",
      "18-05-31:12:14:56 INFO     [clipper_admin.py:456] {'aux': {'ID': 'sha256:7ac91ad502ffaf492d1070c53ac652e6255589b51d0bb02ee7b5aa0df3ad97b4'}}\n",
      "18-05-31:12:14:56 INFO     [clipper_admin.py:456] {'stream': 'Successfully built 7ac91ad502ff\\n'}\n",
      "18-05-31:12:14:56 INFO     [clipper_admin.py:456] {'stream': 'Successfully tagged image-example-string:1\\n'}\n",
      "18-05-31:12:14:56 INFO     [clipper_admin.py:458] Pushing model Docker image to image-example-string:1\n",
      "18-05-31:12:14:57 INFO     [docker_container_manager.py:257] Found 0 replicas for image-example-string:1. Adding 1\n",
      "18-05-31:12:15:04 INFO     [clipper_admin.py:635] Successfully registered model image-example-string:1\n",
      "18-05-31:12:15:04 INFO     [clipper_admin.py:553] Done deploying model image-example-string:1.\n",
      "18-05-31:12:15:04 INFO     [clipper_admin.py:263] Model image-example-string is now linked to application image-example-string\n"
     ]
    }
   ],
   "source": [
    "python_deployer.create_endpoint(\n",
    "    clipper_conn=clipper_conn, \n",
    "    name=\"image-example-string\", \n",
    "    input_type=\"strings\", \n",
    "    func=image_size_json, \n",
    "    pkgs_to_install=['pillow']\n",
    ")"
   ]
  },
  {
   "cell_type": "code",
   "execution_count": 13,
   "metadata": {},
   "outputs": [
    {
     "name": "stdout",
     "output_type": "stream",
     "text": [
      "{'query_id': 1, 'output': '(749, 600)', 'use_use_default': False}\n"
     ]
    }
   ],
   "source": [
    "query_json(clipper_conn.get_query_addr(), 'imgs/clipper-logo.jpg', 'jpg')"
   ]
  },
  {
   "cell_type": "code",
   "execution_count": 14,
   "metadata": {},
   "outputs": [
    {
     "name": "stdout",
     "output_type": "stream",
     "text": [
      "{'query_id': 2, 'output': '(749, 600)', 'use_default': False}\n"
     ]
    }
   ],
   "source": [
    "query_json(clipper_conn.get_query_addr(), 'imgs/clipper-logo.png', 'png')"
   ]
  },
  {
   "cell_type": "markdown",
   "metadata": {},
   "source": [
    "## Shutdown Clipper\n",
    "Finally, we will stop all clipper containers"
   ]
  },
  {
   "cell_type": "code",
   "execution_count": 15,
   "metadata": {},
   "outputs": [
    {
     "name": "stderr",
     "output_type": "stream",
     "text": [
      "18-05-31:12:16:39 INFO     [clipper_admin.py:1258] Stopped all Clipper cluster and all model containers\n"
     ]
    }
   ],
   "source": [
    "clipper_conn.stop_all()"
   ]
  }
 ],
 "metadata": {
  "kernelspec": {
   "display_name": "Python 2",
   "language": "python",
   "name": "python2"
  },
  "language_info": {
   "codemirror_mode": {
    "name": "ipython",
    "version": 3
   },
   "file_extension": ".py",
   "mimetype": "text/x-python",
   "name": "python",
   "nbconvert_exporter": "python",
   "pygments_lexer": "ipython3",
   "version": "3.6.5"
  }
 },
 "nbformat": 4,
 "nbformat_minor": 2
}
