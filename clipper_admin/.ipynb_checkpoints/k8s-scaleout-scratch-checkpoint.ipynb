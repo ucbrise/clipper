{
 "cells": [
  {
   "cell_type": "markdown",
   "metadata": {},
   "source": [
    "## Setup\n",
    "\n",
    "Before running this notebook, here are some setup steps:\n",
    "+ Clone the Clipper repo (`git clone --recursive https://github.com/ucbrise/clipper.git && cd clipper`)\n",
    "+ Install Anaconda with Python 2\n",
    "+ Create a new Anaconda environment (`conda create -n ENV_NAME python=2`) and activate it (follow the Anaconda instructions).\n",
    "+ Install a local version of Clipper admin (`pip install -e ./clipper_admin`)"
   ]
  },
  {
   "cell_type": "code",
   "execution_count": 1,
   "metadata": {},
   "outputs": [
    {
     "name": "stdout",
     "output_type": "stream",
     "text": [
      "/Users/rahulbalakrishnan/Desktop/clipper/clipper_admin\r\n"
     ]
    }
   ],
   "source": [
    "!pwd"
   ]
  },
  {
   "cell_type": "code",
   "execution_count": 3,
   "metadata": {},
   "outputs": [],
   "source": [
    "from clipper_admin import ClipperConnection, KubernetesContainerManager as K8sManager"
   ]
  },
  {
   "cell_type": "code",
   "execution_count": 4,
   "metadata": {},
   "outputs": [],
   "source": [
    "cm = K8sManager(kubernetes_api_ip=\"eric-dev.clipper-k8s-dev.com\", useInternalIP=True)\n",
    "\n"
   ]
  },
  {
   "cell_type": "code",
   "execution_count": 5,
   "metadata": {},
   "outputs": [],
   "source": [
    "cl = ClipperConnection(cm)\n",
    "# cl.connect()"
   ]
  },
  {
   "cell_type": "code",
   "execution_count": 6,
   "metadata": {},
   "outputs": [
    {
     "name": "stderr",
     "output_type": "stream",
     "text": [
      "18-03-15:06:02:19 INFO     [kubernetes_container_manager.py:33] {u'kind': u'deployments', u'group': u'extensions', u'name': u'redis'} already exists, skipping!\n",
      "18-03-15:06:02:19 INFO     [kubernetes_container_manager.py:33] {u'kind': u'services', u'name': u'redis'} already exists, skipping!\n",
      "18-03-15:06:02:29 INFO     [kubernetes_container_manager.py:33] {u'kind': u'deployments', u'group': u'extensions', u'name': u'mgmt-frontend'} already exists, skipping!\n",
      "18-03-15:06:02:29 INFO     [kubernetes_container_manager.py:33] {u'kind': u'services', u'name': u'mgmt-frontend'} already exists, skipping!\n",
      "18-03-15:06:02:29 INFO     [kubernetes_container_manager.py:33] {u'kind': u'deployments', u'group': u'extensions', u'name': u'query-frontend'} already exists, skipping!\n",
      "18-03-15:06:02:29 INFO     [kubernetes_container_manager.py:33] {u'kind': u'services', u'name': u'query-frontend'} already exists, skipping!\n",
      "18-03-15:06:02:30 INFO     [kubernetes_container_manager.py:229] Found 5 nodes: ec2-54-186-235-230.us-west-2.compute.amazonaws.com, ec2-54-190-21-100.us-west-2.compute.amazonaws.com, ec2-54-149-160-111.us-west-2.compute.amazonaws.com, ec2-54-149-129-227.us-west-2.compute.amazonaws.com, ec2-54-201-98-152.us-west-2.compute.amazonaws.com\n",
      "18-03-15:06:02:30 INFO     [kubernetes_container_manager.py:237] Setting Clipper mgmt port to 31492\n",
      "18-03-15:06:02:30 INFO     [kubernetes_container_manager.py:244] Setting Clipper query port to 31964\n",
      "18-03-15:06:02:30 INFO     [clipper_admin.py:115] Clipper is running\n"
     ]
    }
   ],
   "source": [
    "nr = 2\n",
    "cl.start_clipper(num_replicas = nr)\n"
   ]
  },
  {
   "cell_type": "code",
   "execution_count": 8,
   "metadata": {},
   "outputs": [],
   "source": [
    "k8s_v1 = cl.cm._k8s_v1\n",
    "k8s_beta = cl.cm._k8s_beta\n",
    "# cm.set_num_replicas(\"query-frontend\", 9033148, None, None, 3)\n"
   ]
  },
  {
   "cell_type": "code",
   "execution_count": 16,
   "metadata": {
    "scrolled": false
   },
   "outputs": [
    {
     "data": {
      "text/plain": [
       "{'api_version': 'v1',\n",
       " 'kind': 'Endpoints',\n",
       " 'metadata': {'annotations': None,\n",
       "              'cluster_name': None,\n",
       "              'creation_timestamp': datetime.datetime(2018, 3, 15, 12, 21, 9, tzinfo=tzutc()),\n",
       "              'deletion_grace_period_seconds': None,\n",
       "              'deletion_timestamp': None,\n",
       "              'finalizers': None,\n",
       "              'generate_name': None,\n",
       "              'generation': None,\n",
       "              'initializers': None,\n",
       "              'labels': {u'ai.clipper.container.label': '',\n",
       "                         u'ai.clipper.name': 'mgmt-frontend'},\n",
       "              'name': 'mgmt-frontend',\n",
       "              'namespace': 'default',\n",
       "              'owner_references': None,\n",
       "              'resource_version': '15678275',\n",
       "              'self_link': '/api/v1/namespaces/default/endpoints/mgmt-frontend',\n",
       "              'uid': '57d8af61-284b-11e8-a8c5-022a73b21532'},\n",
       " 'subsets': [{'addresses': None,\n",
       "              'not_ready_addresses': [{'hostname': None,\n",
       "                                       'ip': '100.96.4.69',\n",
       "                                       'node_name': 'ip-172-20-93-190.us-west-2.compute.internal',\n",
       "                                       'target_ref': {'api_version': None,\n",
       "                                                      'field_path': None,\n",
       "                                                      'kind': 'Pod',\n",
       "                                                      'name': 'mgmt-frontend-1321804303-k30g9',\n",
       "                                                      'namespace': 'default',\n",
       "                                                      'resource_version': '15678274',\n",
       "                                                      'uid': '6c62ade4-2849-11e8-a8c5-022a73b21532'}}],\n",
       "              'ports': [{'name': '1338', 'port': 1338, 'protocol': 'TCP'},\n",
       "                        {'name': '1339', 'port': 1339, 'protocol': 'TCP'}]}]}"
      ]
     },
     "execution_count": 16,
     "metadata": {},
     "output_type": "execute_result"
    }
   ],
   "source": [
    "k8s_v1.read_namespaced_endpoints(name=\"mgmt-frontend\", namespace=\"default\")\n"
   ]
  },
  {
   "cell_type": "code",
   "execution_count": 8,
   "metadata": {},
   "outputs": [
    {
     "data": {
      "text/plain": [
       "['100.96.2.26', '100.96.3.52']"
      ]
     },
     "execution_count": 8,
     "metadata": {},
     "output_type": "execute_result"
    }
   ],
   "source": [
    "endpoints = k8s_v1.read_namespaced_endpoints(name=\"query-frontend\", namespace=\"default\")\n",
    "query_frontend_ips = [addr.ip for addr in endpoints.subsets[0].addresses]\n",
    "query_frontend_ips"
   ]
  },
  {
   "cell_type": "code",
   "execution_count": 14,
   "metadata": {},
   "outputs": [
    {
     "data": {
      "text/plain": [
       "['100.96.4.40']"
      ]
     },
     "execution_count": 14,
     "metadata": {},
     "output_type": "execute_result"
    }
   ],
   "source": [
    "ep2 = k8s_v1.read_namespaced_endpoints(name=\"redis\", namespace=\"default\")\n",
    "qf2 = [addr.ip for addr in ep2.subsets[0].addresses]\n",
    "qf2"
   ]
  },
  {
   "cell_type": "code",
   "execution_count": 7,
   "metadata": {},
   "outputs": [],
   "source": [
    "from clipper_admin import __version__ as v"
   ]
  },
  {
   "cell_type": "code",
   "execution_count": 8,
   "metadata": {},
   "outputs": [
    {
     "name": "stderr",
     "output_type": "stream",
     "text": [
      "18-02-23:15:22:49 INFO     [clipper_admin.py:390] Building model Docker image with model data from test.txt\n",
      "18-02-23:15:22:49 INFO     [clipper_admin.py:392] <Image: 'test-model:1', 'rbala19/test-model1:develop', 'rbala19/test-model2:develop', 'rbala19/test-model3:develop', 'rbala19/test-model4:develop', 'rbala19/test-model:1'>\n",
      "18-02-23:15:22:49 INFO     [clipper_admin.py:394] Pushing model Docker image to rbala19/test-model2:develop\n",
      "18-02-23:15:22:52 INFO     [clipper_admin.py:565] Successfully registered model test-model2:develop\n",
      "18-02-23:15:22:52 INFO     [clipper_admin.py:485] Done deploying model test-model2:develop.\n"
     ]
    }
   ],
   "source": [
    "\n",
    "# from clipper_admin.deployers import python as python_deployer\n",
    "# python_deployer.deploy_python_closure(cl, name=\"sum-model\", version=1, input_type=\"doubles\", func=feature_sum)\n",
    "# cl.link_model_to_app(app_name=\"hello-world\", model_name=\"sum-model\")\n",
    "\n",
    "# from clipper_admin import ClipperConnection, DockerContainerManager as dl\n",
    "# cl2 = ClipperConnection(dl())\n",
    "\n",
    "model_name = \"test-model1\"\n",
    "\n",
    "cl.build_and_deploy_model(model_name, v, \"ints\", \"test.txt\", \"clipper/noop-container:{}\".format(v),\n",
    "                          container_registry = \"rbala19\", num_replicas = nr)\n",
    "\n",
    "# cl2.build_model(\n",
    "#         model_name,\n",
    "#         v,\n",
    "#         \"test.txt\",\n",
    "#         \"clipper/noop-container:{}\".format(v),\n",
    "#         container_registry = \"rbala19\")\n",
    "\n",
    "# # cl.build_model(\n",
    "# #         \"test-model\",\n",
    "# #         1,\n",
    "# #         \"test.txt\",\n",
    "# #         \"clipper/noop-container:{}\".format(v),\n",
    "# #         container_registry = \"rbala19\")\n",
    "\n",
    "# cm.deploy_model(model_name, \n",
    "#                 v, \n",
    "#                 \"ints\", \n",
    "#                 \"clipper/noop-container:{}\".format(v)\n",
    "#                )\n",
    "\n",
    "\n",
    "\n",
    "\n",
    "\n",
    "\n"
   ]
  },
  {
   "cell_type": "code",
   "execution_count": 9,
   "metadata": {},
   "outputs": [
    {
     "data": {
      "text/plain": [
       "[['rbala19/test-model1:develop', 'test-model10', 'test-model1'],\n",
       " ['rbala19/test-model1:develop',\n",
       "  'test-model12',\n",
       "  'test-model1-develop-deployment']]"
      ]
     },
     "execution_count": 9,
     "metadata": {},
     "output_type": "execute_result"
    }
   ],
   "source": [
    "cm.query_to_model['100.96.1.28']\n"
   ]
  },
  {
   "cell_type": "markdown",
   "metadata": {},
   "source": [
    "# Notes\n",
    "\n",
    "### Considerations when rebalancing model containers\n",
    "When the number of query frontend replicas changes and we rebalance, we need to tell some of the model containers that the query frontend IP address has changed and they should re-connect to the new address. The easiest way to do so is by simply killing the containers and restarting them. But for containers with a long initialization time, it would potentially be a useful optimization if we could have them reconnect to a new address without restarting. One potential drawback with this is if one of those swapped model containers dies and is re-started by Kubernetes, I believe it will be restarted with the Docker runtime arguments it was originally started with. As a result, this will cause it to attempt to re-connect to the original query-frontend replica which no longer exists.\n",
    "\n",
    "### Where to store Clipper cluster state?"
   ]
  },
  {
   "cell_type": "code",
   "execution_count": null,
   "metadata": {
    "collapsed": true
   },
   "outputs": [],
   "source": []
  }
 ],
 "metadata": {
  "anaconda-cloud": {},
  "kernelspec": {
   "display_name": "Python 2",
   "language": "python",
   "name": "python2"
  },
  "language_info": {
   "codemirror_mode": {
    "name": "ipython",
    "version": 2
   },
   "file_extension": ".py",
   "mimetype": "text/x-python",
   "name": "python",
   "nbconvert_exporter": "python",
   "pygments_lexer": "ipython2",
   "version": "2.7.14"
  }
 },
 "nbformat": 4,
 "nbformat_minor": 2
}
